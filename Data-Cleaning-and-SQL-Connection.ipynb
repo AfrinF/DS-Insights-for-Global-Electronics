{
 "cells": [
  {
   "cell_type": "markdown",
   "id": "902e16e4",
   "metadata": {},
   "source": [
    "## Importing necessary modules"
   ]
  },
  {
   "cell_type": "code",
   "execution_count": null,
   "id": "99ad9ec3",
   "metadata": {},
   "outputs": [],
   "source": [
    "import pandas as pd\n",
    "import pymysql"
   ]
  },
  {
   "cell_type": "markdown",
   "id": "69a094ba",
   "metadata": {},
   "source": [
    "## Reading the CSV Files "
   ]
  },
  {
   "cell_type": "code",
   "execution_count": null,
   "id": "a1265473",
   "metadata": {},
   "outputs": [],
   "source": [
    "stores=pd.read_csv(\"Dataset-csv/Stores.csv\")\n",
    "products=pd.read_csv(\"Dataset-csv/Products.csv\")\n",
    "#Encoding used as names contain some non-ascii characters\n",
    "customers=pd.read_csv(\"Dataset-csv/Customers.csv\", encoding='ISO-8859-1')\n",
    "sales=pd.read_csv(\"Dataset-csv/Sales.csv\")\n",
    "exchange=pd.read_csv(\"Dataset-csv/Exchange_Rates.csv\")"
   ]
  },
  {
   "cell_type": "markdown",
   "id": "4db8e1d1",
   "metadata": {},
   "source": [
    "## Data Cleaning for stores dataset "
   ]
  },
  {
   "cell_type": "code",
   "execution_count": null,
   "id": "92fb3fa5",
   "metadata": {},
   "outputs": [],
   "source": [
    "#print stores datset\n",
    "stores"
   ]
  },
  {
   "cell_type": "code",
   "execution_count": null,
   "id": "4ae7d96b",
   "metadata": {},
   "outputs": [],
   "source": [
    "#Checking the datatypes\n",
    "stores.dtypes"
   ]
  },
  {
   "cell_type": "code",
   "execution_count": null,
   "id": "87cb875b",
   "metadata": {
    "scrolled": true
   },
   "outputs": [],
   "source": [
    "#Converting Object types to respective types\n",
    "\n",
    "#Converting open date attribute to date data type\n",
    "stores['Open Date']=pd.to_datetime(stores['Open Date'],format='%m/%d/%Y')\n",
    "\n",
    "#Converting Country and state attribute to string datatype\n",
    "stores['Country']=stores['Country'].astype(str)\n",
    "stores['State']=stores['State'].astype(str)"
   ]
  },
  {
   "cell_type": "code",
   "execution_count": null,
   "id": "31b84b43",
   "metadata": {},
   "outputs": [],
   "source": [
    "#Check if there are any null values in any column\n",
    "stores.isnull().sum()"
   ]
  },
  {
   "cell_type": "code",
   "execution_count": null,
   "id": "d0b45935",
   "metadata": {},
   "outputs": [],
   "source": [
    "#Get the record that has null value in Square Meter Attribute\n",
    "null_records = stores[stores['Square Meters'].isnull()]\n",
    "null_records"
   ]
  },
  {
   "cell_type": "code",
   "execution_count": null,
   "id": "4574ff19",
   "metadata": {},
   "outputs": [],
   "source": [
    "#Fill 0 for the missing value\n",
    "stores.fillna(0,inplace=True)"
   ]
  },
  {
   "cell_type": "markdown",
   "id": "352ad70e",
   "metadata": {},
   "source": [
    "## Data Cleaning for products dataset "
   ]
  },
  {
   "cell_type": "code",
   "execution_count": null,
   "id": "2281fc56",
   "metadata": {},
   "outputs": [],
   "source": [
    "#printing product dataset\n",
    "products"
   ]
  },
  {
   "cell_type": "code",
   "execution_count": null,
   "id": "a2f4a0cc",
   "metadata": {},
   "outputs": [],
   "source": [
    "#Checking the datatypes\n",
    "products.dtypes"
   ]
  },
  {
   "cell_type": "code",
   "execution_count": null,
   "id": "be27d888",
   "metadata": {},
   "outputs": [],
   "source": [
    "#Removing the $ symbol\n",
    "products['Unit Cost USD'] = products['Unit Cost USD'].replace('[\\$,]', '', regex=True).astype(float)\n",
    "products['Unit Price USD'] = products['Unit Price USD'].replace('[\\$,]', '', regex=True).astype(float)"
   ]
  },
  {
   "cell_type": "code",
   "execution_count": null,
   "id": "bfdbe32b",
   "metadata": {},
   "outputs": [],
   "source": [
    "#Check for null values\n",
    "products.isnull().sum()"
   ]
  },
  {
   "cell_type": "markdown",
   "id": "6fc7684d",
   "metadata": {},
   "source": [
    "## Data Cleaning for customers dataset"
   ]
  },
  {
   "cell_type": "code",
   "execution_count": null,
   "id": "92c9ad22",
   "metadata": {},
   "outputs": [],
   "source": [
    "#Printing the customers dataset\n",
    "customers"
   ]
  },
  {
   "cell_type": "code",
   "execution_count": null,
   "id": "09ef7fe6",
   "metadata": {},
   "outputs": [],
   "source": [
    "#Checking the datatypes\n",
    "customers.dtypes"
   ]
  },
  {
   "cell_type": "code",
   "execution_count": null,
   "id": "d19cc33a",
   "metadata": {},
   "outputs": [],
   "source": [
    "#Converting Object types to respective types\n",
    "\n",
    "#Converting birthday attribute to date data type\n",
    "customers['Birthday']=pd.to_datetime(customers['Birthday'],format='%m/%d/%Y')\n"
   ]
  },
  {
   "cell_type": "code",
   "execution_count": null,
   "id": "a989e5db",
   "metadata": {},
   "outputs": [],
   "source": [
    "#Checking for null values\n",
    "customers.isnull().sum()"
   ]
  },
  {
   "cell_type": "code",
   "execution_count": null,
   "id": "d7b26718",
   "metadata": {},
   "outputs": [],
   "source": [
    "#Get the null records for state code\n",
    "null_records = customers[customers['State Code'].isnull()]\n",
    "null_records"
   ]
  },
  {
   "cell_type": "code",
   "execution_count": null,
   "id": "b94292f2",
   "metadata": {},
   "outputs": [],
   "source": [
    "#Replace null values with not available\n",
    "customers['State Code'].fillna('Not Available', inplace=True)"
   ]
  },
  {
   "cell_type": "markdown",
   "id": "288a2fd8",
   "metadata": {},
   "source": [
    "## Data Cleaning for sales dataset "
   ]
  },
  {
   "cell_type": "code",
   "execution_count": null,
   "id": "cd1dc97d",
   "metadata": {},
   "outputs": [],
   "source": [
    "#Printing the sales dataset\n",
    "sales"
   ]
  },
  {
   "cell_type": "code",
   "execution_count": null,
   "id": "5c0f5d5c",
   "metadata": {},
   "outputs": [],
   "source": [
    "#Checking the datatypes\n",
    "sales.dtypes"
   ]
  },
  {
   "cell_type": "code",
   "execution_count": null,
   "id": "c5657ca8",
   "metadata": {},
   "outputs": [],
   "source": [
    "#Converting the object types to date type\n",
    "sales['Order Date']=pd.to_datetime(sales['Order Date'],format='%m/%d/%Y')\n",
    "sales['Delivery Date']=pd.to_datetime(sales['Delivery Date'],format='%m/%d/%Y')\n",
    "\n",
    "#Converting Currency code to str type\n",
    "sales['Currency Code'] = sales['Currency Code'].astype(str)"
   ]
  },
  {
   "cell_type": "code",
   "execution_count": null,
   "id": "6c9e836d",
   "metadata": {},
   "outputs": [],
   "source": [
    "#Check for null values\n",
    "sales.isnull().sum()"
   ]
  },
  {
   "cell_type": "code",
   "execution_count": null,
   "id": "7e088984",
   "metadata": {},
   "outputs": [],
   "source": [
    "#Fill the missing delivery dates with yet to be delivered\n",
    "sales.fillna('Not Delivered', inplace=True)"
   ]
  },
  {
   "cell_type": "markdown",
   "id": "cf5a85a3",
   "metadata": {},
   "source": [
    "## Data cleaning for exchage rates "
   ]
  },
  {
   "cell_type": "code",
   "execution_count": null,
   "id": "7e6436dc",
   "metadata": {},
   "outputs": [],
   "source": [
    "#Printing the dataset\n",
    "exchange"
   ]
  },
  {
   "cell_type": "code",
   "execution_count": null,
   "id": "55941116",
   "metadata": {},
   "outputs": [],
   "source": [
    "#Checking the datatypes\n",
    "exchange.dtypes"
   ]
  },
  {
   "cell_type": "code",
   "execution_count": null,
   "id": "7c555481",
   "metadata": {},
   "outputs": [],
   "source": [
    "#Conversion of datatypes\n",
    "exchange['Date'] = pd.to_datetime(exchange['Date'], format='%m/%d/%Y')\n",
    "exchange['Currency'] = exchange['Currency'].astype(str)"
   ]
  },
  {
   "cell_type": "code",
   "execution_count": null,
   "id": "5eecfa23",
   "metadata": {},
   "outputs": [],
   "source": [
    "#Checking for null values\n",
    "exchange.isnull().sum()"
   ]
  },
  {
   "cell_type": "markdown",
   "id": "6b6b5ea6",
   "metadata": {},
   "source": [
    "## Merging all the datasets using inner join "
   ]
  },
  {
   "cell_type": "code",
   "execution_count": null,
   "id": "5c07aa5b",
   "metadata": {},
   "outputs": [],
   "source": [
    "#Merging customers and sales\n",
    "globalElectronics=customers\n",
    "globalElectronics=pd.merge(globalElectronics,sales,on='CustomerKey',how='inner')\n",
    "globalElectronics"
   ]
  },
  {
   "cell_type": "code",
   "execution_count": null,
   "id": "8e2720b2",
   "metadata": {},
   "outputs": [],
   "source": [
    "#Merging all other datasets\n",
    "globalElectronics=pd.merge(globalElectronics,exchange,left_on=['Order Date','Currency Code'],right_on=['Date','Currency'],how='inner')\n",
    "globalElectronics=pd.merge(globalElectronics,products,on='ProductKey',how='inner')\n",
    "globalElectronics=pd.merge(globalElectronics,stores,on=['StoreKey','Country','State'],how='inner')\n",
    "globalElectronics"
   ]
  },
  {
   "cell_type": "code",
   "execution_count": null,
   "id": "8f08661a",
   "metadata": {},
   "outputs": [],
   "source": [
    "#Check for null values in merged dataset\n",
    "globalElectronics.isnull().sum()"
   ]
  },
  {
   "cell_type": "markdown",
   "id": "6e8e7574",
   "metadata": {},
   "source": [
    "## Converting column names to python convention "
   ]
  },
  {
   "cell_type": "code",
   "execution_count": null,
   "id": "c56b127d",
   "metadata": {},
   "outputs": [],
   "source": [
    "#For combined dataset\n",
    "column=list(globalElectronics.columns)\n",
    "cols=[]\n",
    "for col in column:\n",
    "    cols.append(col.replace(' ','_').lower())\n",
    "    \n",
    "globalElectronics.columns=cols"
   ]
  },
  {
   "cell_type": "code",
   "execution_count": null,
   "id": "9d7b72c2",
   "metadata": {},
   "outputs": [],
   "source": [
    "#For stores dataset\n",
    "column=list(stores.columns)\n",
    "cols=[]\n",
    "for col in column:\n",
    "    cols.append(col.replace(' ','_').lower())\n",
    "    \n",
    "stores.columns=cols\n",
    "cols"
   ]
  },
  {
   "cell_type": "code",
   "execution_count": null,
   "id": "09eaf11a",
   "metadata": {},
   "outputs": [],
   "source": [
    "#For poducts dataset\n",
    "column=list(products.columns)\n",
    "cols=[]\n",
    "for col in column:\n",
    "    cols.append(col.replace(' ','_').lower())\n",
    "    \n",
    "products.columns=cols\n",
    "cols"
   ]
  },
  {
   "cell_type": "code",
   "execution_count": null,
   "id": "6674e1d5",
   "metadata": {},
   "outputs": [],
   "source": [
    "#For customers dataset\n",
    "column=list(customers.columns)\n",
    "cols=[]\n",
    "for col in column:\n",
    "    cols.append(col.replace(' ','_').lower())\n",
    "    \n",
    "customers.columns=cols\n",
    "cols"
   ]
  },
  {
   "cell_type": "code",
   "execution_count": null,
   "id": "cdccc1ee",
   "metadata": {},
   "outputs": [],
   "source": [
    "#For sales dataset\n",
    "column=list(sales.columns)\n",
    "cols=[]\n",
    "for col in column:\n",
    "    cols.append(col.replace(' ','_').lower())\n",
    "    \n",
    "sales.columns=cols\n",
    "cols"
   ]
  },
  {
   "cell_type": "code",
   "execution_count": null,
   "id": "7aeb96d5",
   "metadata": {},
   "outputs": [],
   "source": [
    "#For exchange rates dataset\n",
    "column=list(exchange.columns)\n",
    "cols=[]\n",
    "for col in column:\n",
    "    cols.append(col.replace(' ','_').lower())\n",
    "    \n",
    "exchange.columns=cols\n",
    "cols"
   ]
  },
  {
   "cell_type": "markdown",
   "id": "fd6035c2",
   "metadata": {},
   "source": [
    "## Save merged dataset as a csv file"
   ]
  },
  {
   "cell_type": "code",
   "execution_count": null,
   "id": "ed704325",
   "metadata": {},
   "outputs": [],
   "source": [
    "globalElectronics.to_csv('globalElectronics.csv')"
   ]
  },
  {
   "cell_type": "markdown",
   "id": "ef371a7e",
   "metadata": {},
   "source": [
    "## Connecting to MySQL "
   ]
  },
  {
   "cell_type": "code",
   "execution_count": null,
   "id": "7402d7c5",
   "metadata": {},
   "outputs": [],
   "source": [
    "conn = pymysql.connect(\n",
    "    host=\"localhost\",\n",
    "    user=\"root\",\n",
    "    password=\"Sky1234\",\n",
    "    database=\"Global_Electronics\",\n",
    "    autocommit=True\n",
    ")\n",
    "\n",
    "print(\"Connected to the database!\")\n",
    "print(conn)\n",
    "my_cursor = conn.cursor()"
   ]
  },
  {
   "cell_type": "markdown",
   "id": "90a7c747",
   "metadata": {},
   "source": [
    "## Creating Tables and inserting records "
   ]
  },
  {
   "cell_type": "code",
   "execution_count": null,
   "id": "5e547f1b",
   "metadata": {},
   "outputs": [],
   "source": [
    "# Table Creation\n",
    "my_cursor.execute('''CREATE TABLE IF NOT EXISTS Overall(\n",
    "                  ID INT AUTO_INCREMENT PRIMARY KEY,\n",
    "                  Customerkey INT NOT NULL,\n",
    "                  gender VARCHAR(255) NOT NULL,\n",
    "                  name VARCHAR(255) NOT NULL,\n",
    "                  city VARCHAR(255) NOT NULL,\n",
    "                  state_code VARCHAR(255) NOT NULL,\n",
    "                  state VARCHAR(255) NULL,\n",
    "                  zip_code VARCHAR(255) NOT NULL,\n",
    "                  country VARCHAR(255) NULL,\n",
    "                  continent VARCHAR(255) NULL,\n",
    "                  birthday DATE NOT NULL,\n",
    "                  order_number INT NOT NULL,\n",
    "                  line_item INT NOT NULL,\n",
    "                  order_date DATE NOT NULL,\n",
    "                  delivery_date VARCHAR(255) NOT NULL,\n",
    "                  storekey INT NOT NULL,\n",
    "                  productkey INT NOT NULL,\n",
    "                  quantity INT NOT NULL,\n",
    "                  currency_code VARCHAR(255) NOT NULL,\n",
    "                  date DATE NOT NULL,\n",
    "                  currency VARCHAR(255) NOT NULL,\n",
    "                  exchange FLOAT NOT NULL,\n",
    "                  product_name VARCHAR(255) NOT NULL,\n",
    "                  brand VARCHAR(255) NOT NULL,\n",
    "                  color VARCHAR(255) NOT NULL,\n",
    "                  unit_cost_usd FLOAT NOT NULL,\n",
    "                  unit_price_usd FLOAT NOT NULL,\n",
    "                  subcategorykey INT NOT NULL,\n",
    "                  subcategory VARCHAR(255) NOT NULL,\n",
    "                  categorykey INT NOT NULL,\n",
    "                  category VARCHAR(255) NOT NULL,\n",
    "                  square_meters FLOAT NOT NULL,\n",
    "                  open_date DATE NOT NULL\n",
    "                  )''')\n",
    "print(\"Table Created successfully\")"
   ]
  },
  {
   "cell_type": "code",
   "execution_count": null,
   "id": "93bd865b",
   "metadata": {},
   "outputs": [],
   "source": [
    "insert_query = '''INSERT INTO Overall(\n",
    "                      Customerkey,\n",
    "                      gender,\n",
    "                      name,\n",
    "                      city,\n",
    "                      state_code,\n",
    "                      state,\n",
    "                      zip_code,\n",
    "                      country,\n",
    "                      continent,\n",
    "                      birthday,\n",
    "                      order_number,\n",
    "                      line_item,\n",
    "                      order_date,\n",
    "                      delivery_date,\n",
    "                      storekey,\n",
    "                      productkey,\n",
    "                      quantity,\n",
    "                      currency_code,\n",
    "                      date,\n",
    "                      currency,\n",
    "                      exchange,\n",
    "                      product_name,\n",
    "                      brand,\n",
    "                      color,\n",
    "                      unit_cost_usd,\n",
    "                      unit_price_usd,\n",
    "                      subcategorykey,\n",
    "                      subcategory,\n",
    "                      categorykey,\n",
    "                      category,\n",
    "                      square_meters,\n",
    "                      open_date)\n",
    "                  VALUES(%s, %s, %s, %s, %s, %s, %s, %s,%s, %s, %s, %s, %s, %s, %s, %s,%s, %s, %s, %s, %s, %s, %s, %s,%s, %s, %s, %s, %s, %s, %s, %s)'''\n",
    "\n",
    "data = globalElectronics.values.tolist()\n",
    "\n",
    "my_cursor.executemany(insert_query, data)\n",
    "\n",
    "conn.commit()\n",
    "\n",
    "print(\"Values inserted successfully\")"
   ]
  },
  {
   "cell_type": "code",
   "execution_count": null,
   "id": "07d36dd4",
   "metadata": {},
   "outputs": [],
   "source": [
    "# Table Creation\n",
    "my_cursor.execute('''CREATE TABLE IF NOT EXISTS Stores(\n",
    "                  storekey INT PRIMARY KEY,\n",
    "                  state VARCHAR(255) NULL,\n",
    "                  country VARCHAR(255) NULL,\n",
    "                  square_meters FLOAT NOT NULL,\n",
    "                  open_date DATE NOT NULL\n",
    "                        \n",
    "                  )''')\n",
    "print(\"Table Created successfully\")"
   ]
  },
  {
   "cell_type": "code",
   "execution_count": null,
   "id": "da464af5",
   "metadata": {},
   "outputs": [],
   "source": [
    "insert_query = '''INSERT INTO Stores(\n",
    "                      storekey,\n",
    "                      state,\n",
    "                      country,\n",
    "                      square_meters,\n",
    "                      open_date)\n",
    "                  VALUES(%s, %s, %s, %s, %s)'''\n",
    "\n",
    "data = stores.values.tolist()\n",
    "\n",
    "my_cursor.executemany(insert_query, data)\n",
    "conn.commit()\n",
    "\n",
    "print(\"Values inserted successfully\")"
   ]
  },
  {
   "cell_type": "code",
   "execution_count": null,
   "id": "8d443f11",
   "metadata": {},
   "outputs": [],
   "source": [
    "# Table Creation\n",
    "my_cursor.execute('''CREATE TABLE IF NOT EXISTS Products(\n",
    "                  productkey INT PRIMARY KEY,\n",
    "                  product_name VARCHAR(255) NOT NULL,\n",
    "                  brand VARCHAR(255) NOT NULL,\n",
    "                  color VARCHAR(255) NOT NULL,\n",
    "                  unit_cost_usd FLOAT NOT NULL,\n",
    "                  unit_price_usd FLOAT NOT NULL,\n",
    "                  subcategorykey INT NOT NULL,\n",
    "                  subcategory VARCHAR(255) NOT NULL,\n",
    "                  categorykey INT NOT NULL,\n",
    "                  category VARCHAR(255) NOT NULL\n",
    "                        \n",
    "                  )''')\n",
    "print(\"Table Created successfully\")"
   ]
  },
  {
   "cell_type": "code",
   "execution_count": null,
   "id": "4163ded9",
   "metadata": {},
   "outputs": [],
   "source": [
    "insert_query = '''INSERT INTO Products(\n",
    "                      productkey,\n",
    "                      product_name,\n",
    "                      brand,\n",
    "                      color,\n",
    "                      unit_cost_usd,\n",
    "                      unit_price_usd,\n",
    "                      subcategorykey,\n",
    "                      subcategory,\n",
    "                      categorykey,\n",
    "                      category)\n",
    "                  VALUES(%s, %s, %s, %s, %s,%s, %s, %s, %s, %s)'''\n",
    "\n",
    "data = products.values.tolist()\n",
    "\n",
    "my_cursor.executemany(insert_query, data)\n",
    "\n",
    "conn.commit()\n",
    "\n",
    "print(\"Values inserted successfully\")"
   ]
  },
  {
   "cell_type": "code",
   "execution_count": null,
   "id": "68522b70",
   "metadata": {},
   "outputs": [],
   "source": [
    "# Table Creation\n",
    "my_cursor.execute('''CREATE TABLE IF NOT EXISTS Customer(\n",
    "                  Customerkey INT PRIMARY KEY,\n",
    "                  gender VARCHAR(255) NOT NULL,\n",
    "                  name VARCHAR(255) NOT NULL,\n",
    "                  city VARCHAR(255) NOT NULL,\n",
    "                  state_code VARCHAR(255) NOT NULL,\n",
    "                  state VARCHAR(255) NULL,\n",
    "                  zip_code VARCHAR(255) NOT NULL,\n",
    "                  country VARCHAR(255) NULL,\n",
    "                  continent VARCHAR(255) NULL,\n",
    "                  birthday DATE NOT NULL\n",
    "                        \n",
    "                  )''')\n",
    "print(\"Table Created successfully\")"
   ]
  },
  {
   "cell_type": "code",
   "execution_count": null,
   "id": "0948472f",
   "metadata": {},
   "outputs": [],
   "source": [
    "insert_query = '''INSERT INTO Customer(\n",
    "                      Customerkey,\n",
    "                      gender,\n",
    "                      name,\n",
    "                      city,\n",
    "                      state_code,\n",
    "                      state,\n",
    "                      zip_code,\n",
    "                      country,\n",
    "                      continent,\n",
    "                      birthday)\n",
    "                  VALUES(%s, %s, %s, %s, %s,%s, %s, %s, %s, %s)'''\n",
    "\n",
    "data = customers.values.tolist()\n",
    "\n",
    "my_cursor.executemany(insert_query, data)\n",
    "conn.commit()\n",
    "\n",
    "print(\"Values inserted successfully\")"
   ]
  },
  {
   "cell_type": "code",
   "execution_count": null,
   "id": "5b73a543",
   "metadata": {},
   "outputs": [],
   "source": [
    "# Table Creation\n",
    "my_cursor.execute('''CREATE TABLE IF NOT EXISTS Sales(\n",
    "                    ID INT AUTO_INCREMENT PRIMARY KEY,\n",
    "                  order_number INT NOT NULL,\n",
    "                  line_item INT NOT NULL,\n",
    "                  order_date DATE NOT NULL,\n",
    "                  delivery_date VARCHAR(255) NOT NULL,\n",
    "                  Customerkey INT NOT NULL,\n",
    "                  storekey INT NOT NULL,\n",
    "                  productkey INT NOT NULL,\n",
    "                  quantity INT NOT NULL,\n",
    "                  currency_code VARCHAR(255) NOT NULL\n",
    "                        \n",
    "                  )''')\n",
    "print(\"Table Created successfully\")"
   ]
  },
  {
   "cell_type": "code",
   "execution_count": null,
   "id": "28301f58",
   "metadata": {},
   "outputs": [],
   "source": [
    "insert_query = '''INSERT INTO Sales(\n",
    "                      order_number,\n",
    "                      line_item,\n",
    "                      order_date,\n",
    "                      delivery_date,\n",
    "                      Customerkey,\n",
    "                      storekey,\n",
    "                      productkey,\n",
    "                      quantity,\n",
    "                      currency_code)\n",
    "                  VALUES(%s, %s, %s, %s, %s,%s, %s, %s, %s)'''\n",
    "\n",
    "data = sales.values.tolist()\n",
    "\n",
    "my_cursor.executemany(insert_query, data)\n",
    "conn.commit()\n",
    "\n",
    "print(\"Values inserted successfully\")"
   ]
  },
  {
   "cell_type": "code",
   "execution_count": null,
   "id": "e05829ef",
   "metadata": {},
   "outputs": [],
   "source": [
    "# Table Creation\n",
    "my_cursor.execute('''CREATE TABLE IF NOT EXISTS Exchange(\n",
    "                    date DATE NOT NULL,\n",
    "                  currency VARCHAR(255) NOT NULL,\n",
    "                  exchange FLOAT NOT NULL\n",
    "                        \n",
    "                  )''')\n",
    "print(\"Table Created successfully\")"
   ]
  },
  {
   "cell_type": "code",
   "execution_count": null,
   "id": "bb87fbad",
   "metadata": {},
   "outputs": [],
   "source": [
    "insert_query = '''INSERT INTO Exchange(\n",
    "                      date,\n",
    "                  currency,\n",
    "                  exchange)\n",
    "                  VALUES(%s, %s, %s)'''\n",
    "\n",
    "data = exchange.values.tolist()\n",
    "\n",
    "my_cursor.executemany(insert_query, data)\n",
    "conn.commit()\n",
    "\n",
    "print(\"Values inserted successfully\")"
   ]
  },
  {
   "cell_type": "code",
   "execution_count": null,
   "id": "eb7f8615",
   "metadata": {},
   "outputs": [],
   "source": []
  }
 ],
 "metadata": {
  "kernelspec": {
   "display_name": "Python 3 (ipykernel)",
   "language": "python",
   "name": "python3"
  },
  "language_info": {
   "codemirror_mode": {
    "name": "ipython",
    "version": 3
   },
   "file_extension": ".py",
   "mimetype": "text/x-python",
   "name": "python",
   "nbconvert_exporter": "python",
   "pygments_lexer": "ipython3",
   "version": "3.11.4"
  }
 },
 "nbformat": 4,
 "nbformat_minor": 5
}
